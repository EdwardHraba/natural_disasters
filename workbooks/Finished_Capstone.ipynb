{
 "cells": [
  {
   "cell_type": "code",
   "execution_count": 1,
   "id": "715f5c2c-5417-48aa-8d72-8ea865ca094a",
   "metadata": {},
   "outputs": [],
   "source": [
    "import pandas as pd\n",
    "import matplotlib.pyplot as plt\n",
    "import seaborn as sns\n",
    "from datetime import datetime\n",
    "import re"
   ]
  },
  {
   "cell_type": "code",
   "execution_count": 2,
   "id": "3d15042c-3027-430d-ad65-0225b84aac10",
   "metadata": {},
   "outputs": [],
   "source": [
    "pd.set_option('display.max_columns', None)"
   ]
  },
  {
   "cell_type": "code",
   "execution_count": 3,
   "id": "f74d6161-b8b4-4de6-bfa7-e3319951801a",
   "metadata": {},
   "outputs": [],
   "source": [
    "disaster_fema = pd.read_csv('../data/disaster_data.csv')"
   ]
  },
  {
   "cell_type": "code",
   "execution_count": 4,
   "id": "d386f35a-9110-44e1-9063-8d10b42ecf8b",
   "metadata": {},
   "outputs": [],
   "source": [
    "state_abbreviations = {\n",
    "    'AL': 'Alabama', 'AK': 'Alaska', 'AZ': 'Arizona', 'AR': 'Arkansas', 'CA': 'California',\n",
    "    'CO': 'Colorado', 'CT': 'Connecticut', 'DE': 'Delaware', 'FL': 'Florida', 'GA': 'Georgia',\n",
    "    'HI': 'Hawaii', 'ID': 'Idaho', 'IL': 'Illinois', 'IN': 'Indiana', 'IA': 'Iowa',\n",
    "    'KS': 'Kansas', 'KY': 'Kentucky', 'LA': 'Louisiana', 'ME': 'Maine', 'MD': 'Maryland',\n",
    "    'MA': 'Massachusetts', 'MI': 'Michigan', 'MN': 'Minnesota', 'MS': 'Mississippi', 'MO': 'Missouri',\n",
    "    'MT': 'Montana', 'NE': 'Nebraska', 'NV': 'Nevada', 'NH': 'New Hampshire', 'NJ': 'New Jersey',\n",
    "    'NM': 'New Mexico', 'NY': 'New York', 'NC': 'North Carolina', 'ND': 'North Dakota', 'OH': 'Ohio',\n",
    "    'OK': 'Oklahoma', 'OR': 'Oregon', 'PA': 'Pennsylvania', 'RI': 'Rhode Island', 'SC': 'South Carolina',\n",
    "    'SD': 'South Dakota', 'TN': 'Tennessee', 'TX': 'Texas', 'UT': 'Utah', 'VT': 'Vermont',\n",
    "    'VA': 'Virginia', 'WA': 'Washington', 'WV': 'West Virginia', 'WI': 'Wisconsin', 'WY': 'Wyoming'}"
   ]
  },
  {
   "cell_type": "code",
   "execution_count": 5,
   "id": "df3dac9d-ebcc-495d-9990-3892321b5740",
   "metadata": {},
   "outputs": [],
   "source": [
    "disaster_fema['State'] = disaster_fema['state'].map(state_abbreviations)"
   ]
  },
  {
   "cell_type": "code",
   "execution_count": 6,
   "id": "9317ed91-ee8c-4142-88f4-9648fa1d3b32",
   "metadata": {},
   "outputs": [],
   "source": [
    "disaster_fema = disaster_fema.drop_duplicates().reset_index(drop = True)"
   ]
  },
  {
   "cell_type": "code",
   "execution_count": 7,
   "id": "efd1d407-6b78-4efa-bc61-0dfa51a42b3e",
   "metadata": {},
   "outputs": [
    {
     "name": "stdout",
     "output_type": "stream",
     "text": [
      "<class 'pandas.core.frame.DataFrame'>\n",
      "RangeIndex: 3184 entries, 0 to 3183\n",
      "Data columns (total 11 columns):\n",
      " #   Column             Non-Null Count  Dtype \n",
      "---  ------             --------------  ----- \n",
      " 0   disasterNumber     3184 non-null   int64 \n",
      " 1   state              3184 non-null   object\n",
      " 2   declarationType    3184 non-null   object\n",
      " 3   declarationDate    3184 non-null   object\n",
      " 4   fyDeclared         3184 non-null   int64 \n",
      " 5   incidentType       3184 non-null   object\n",
      " 6   declarationTitle   3184 non-null   object\n",
      " 7   incidentBeginDate  3184 non-null   object\n",
      " 8   incidentEndDate    2907 non-null   object\n",
      " 9   fipsStateCode      3184 non-null   int64 \n",
      " 10  State              3073 non-null   object\n",
      "dtypes: int64(3), object(8)\n",
      "memory usage: 273.8+ KB\n"
     ]
    }
   ],
   "source": [
    "disaster_fema.info()"
   ]
  },
  {
   "cell_type": "code",
   "execution_count": 8,
   "id": "77530354-c188-4405-b553-8e87cac46947",
   "metadata": {},
   "outputs": [],
   "source": [
    "disaster_fema['declarationDate'] = pd.to_datetime(disaster_fema['declarationDate']).dt.date\n",
    "disaster_fema['incidentBeginDate'] = pd.to_datetime(disaster_fema['incidentBeginDate']).dt.date\n",
    "disaster_fema['incidentEndDate'] = pd.to_datetime(disaster_fema['incidentEndDate']).dt.date"
   ]
  },
  {
   "cell_type": "code",
   "execution_count": 9,
   "id": "6c384fa1-8023-4b8e-b84d-a12fcf03ec6d",
   "metadata": {},
   "outputs": [],
   "source": [
    "disaster_fema['declarationDate'] = pd.to_datetime(disaster_fema['declarationDate'])\n",
    "disaster_fema['incidentBeginDate'] = pd.to_datetime(disaster_fema['incidentBeginDate'])\n",
    "disaster_fema['incidentEndDate'] = pd.to_datetime(disaster_fema['incidentEndDate'])"
   ]
  },
  {
   "cell_type": "code",
   "execution_count": 10,
   "id": "7fa4aa32-fa1b-49c3-8ec6-76d0fbb16d70",
   "metadata": {},
   "outputs": [],
   "source": [
    "disaster_fema = disaster_fema[~disaster_fema['incidentType'].isin(['Other', 'Terrorist'])]"
   ]
  },
  {
   "cell_type": "code",
   "execution_count": 11,
   "id": "2c452ef3-c6b3-41d1-9829-2412b3c6cf8a",
   "metadata": {},
   "outputs": [],
   "source": [
    "disaster_fema.to_csv('disaster_fema.csv', index=False)"
   ]
  },
  {
   "cell_type": "code",
   "execution_count": 12,
   "id": "7a1ff69a-4a68-4af0-928d-7ee45959f126",
   "metadata": {},
   "outputs": [],
   "source": [
    "state_size = pd.read_csv('../data/state_area.csv')"
   ]
  },
  {
   "cell_type": "code",
   "execution_count": 13,
   "id": "23a37f7a-b2b8-4d2e-aac6-52038613ae4c",
   "metadata": {},
   "outputs": [],
   "source": [
    "oshkoshbigosh = pd.merge( disaster_fema,state_size,\n",
    "         left_on = 'State',\n",
    "         right_on = 'State',\n",
    "         how = 'outer')"
   ]
  },
  {
   "cell_type": "code",
   "execution_count": 14,
   "id": "d653e421-a5a8-428b-9a4c-23fe72cf065c",
   "metadata": {},
   "outputs": [
    {
     "data": {
      "text/plain": [
       "<pandas.core.groupby.generic.SeriesGroupBy object at 0x00000230E8447050>"
      ]
     },
     "execution_count": 14,
     "metadata": {},
     "output_type": "execute_result"
    }
   ],
   "source": [
    "oshkoshbigosh.groupby('State')['total_area_sq_miles']"
   ]
  },
  {
   "cell_type": "code",
   "execution_count": 15,
   "id": "c0b9e2a9-6b80-437c-acef-5e50f9155b97",
   "metadata": {},
   "outputs": [],
   "source": [
    "state_disasters = oshkoshbigosh['State'].value_counts().reset_index()"
   ]
  },
  {
   "cell_type": "code",
   "execution_count": 16,
   "id": "77c99af8-1244-4092-b80b-660c47f59019",
   "metadata": {},
   "outputs": [],
   "source": [
    "huh = pd.merge( state_disasters,state_size,\n",
    "         left_on = 'State',\n",
    "         right_on = 'State',\n",
    "         how = 'outer')"
   ]
  },
  {
   "cell_type": "code",
   "execution_count": 17,
   "id": "10d56dce-ba04-4f8e-acb5-41dce6d0115f",
   "metadata": {},
   "outputs": [],
   "source": [
    "huh['total_area_sq_miles']=huh['total_area_sq_miles'].str.replace(',','')"
   ]
  },
  {
   "cell_type": "code",
   "execution_count": 18,
   "id": "99f2a7c9-bff8-4597-b6c4-a19f8ca5d928",
   "metadata": {},
   "outputs": [],
   "source": [
    "huh['total_area_sq_miles']=huh['total_area_sq_miles'].astype(float)"
   ]
  },
  {
   "cell_type": "code",
   "execution_count": 19,
   "id": "698c75f1-a170-4c93-ba91-e0c40dc5d131",
   "metadata": {},
   "outputs": [],
   "source": [
    "huh['disasters_per_1000_sq_mi'] = (huh['count']/huh['total_area_sq_miles'])*1000"
   ]
  },
  {
   "cell_type": "code",
   "execution_count": 20,
   "id": "8bc01631-3ac5-4516-8768-d57e3f9cf756",
   "metadata": {},
   "outputs": [],
   "source": [
    "huh.to_csv('disasters_and_state_area.csv')"
   ]
  },
  {
   "cell_type": "code",
   "execution_count": 21,
   "id": "a8858458-06d8-496d-96cc-62230a844a0b",
   "metadata": {},
   "outputs": [
    {
     "data": {
      "image/png": "[encoded data removed]",
      "text/plain": [
       "<Figure size 2000x600 with 1 Axes>"
      ]
     },
     "metadata": {},
     "output_type": "display_data"
    }
   ],
   "source": [
    "plt.figure(figsize=(20, 6))\n",
    "plt.bar(huh['State'], huh['disasters_per_1000_sq_mi'])\n",
    "plt.xlabel('State')\n",
    "plt.ylabel('Disasters per 1,000 sq miles')\n",
    "plt.title('Natural Disasters per 1,000 sq miles by State')\n",
    "plt.xticks(rotation=45)\n",
    "plt.show()"
   ]
  },
  {
   "cell_type": "code",
   "execution_count": 22,
   "id": "3d974672-13b1-4d36-853b-84a5fb7d1796",
   "metadata": {},
   "outputs": [],
   "source": [
    "insurance_avg_by_home_price = pd.read_csv('../data/state_avg_by_home_price.csv')"
   ]
  },
  {
   "cell_type": "code",
   "execution_count": 23,
   "id": "99e387cf-ade2-4915-b112-8c535cc8dc9a",
   "metadata": {},
   "outputs": [],
   "source": [
    "insurance_avg_by_home_price = insurance_avg_by_home_price.rename( columns = {'Average annual rates for $200,000 in dwelling coverage' : 'avg_annual_rate_$200,000',\n",
    "                         'Average annual rates for $300,000 in dwelling coverage' : 'avg_annual_rate_$300,000',\n",
    "                         'Average annual rates for $400,000 in dwelling coverage' : 'avg_annual_rate_$400,000',\n",
    "                         'Average annual rates for $600,000 in dwelling coverage' : 'avg_annual_rate_$600,000',\n",
    "                         'Average annual rates for $1,000,000 in dwelling coverage' : 'avg_annual_rate_$1,000,000'})"
   ]
  },
  {
   "cell_type": "code",
   "execution_count": 24,
   "id": "7bb3dc08-b48d-4192-902e-8e8fd885686e",
   "metadata": {},
   "outputs": [],
   "source": [
    "merged_df = pd.merge(insurance_avg_by_home_price, huh, on='State')\n"
   ]
  },
  {
   "cell_type": "code",
   "execution_count": 25,
   "id": "b50c8ef7-d8ac-4c42-a6e6-31fc0a553599",
   "metadata": {},
   "outputs": [],
   "source": [
    "merged_df['avg_annual_rate_$200,000'] = merged_df['avg_annual_rate_$200,000'].str.replace('$','').str.replace(',','')\n",
    "merged_df['avg_annual_rate_$300,000'] = merged_df['avg_annual_rate_$300,000'].str.replace('$','').str.replace(',','')\n",
    "merged_df['avg_annual_rate_$400,000'] = merged_df['avg_annual_rate_$400,000'].str.replace('$','').str.replace(',','')\n",
    "merged_df['avg_annual_rate_$600,000'] = merged_df['avg_annual_rate_$600,000'].str.replace('$','').str.replace(',','')\n",
    "merged_df['avg_annual_rate_$1,000,000'] = merged_df['avg_annual_rate_$1,000,000'].str.replace('$','').str.replace(',','')"
   ]
  },
  {
   "cell_type": "code",
   "execution_count": 26,
   "id": "11427fb0-d6fa-47f5-a18b-b792b79acc1f",
   "metadata": {},
   "outputs": [],
   "source": [
    "merged_df['avg_annual_rate_$200,000']=merged_df['avg_annual_rate_$200,000'].astype(float)\n",
    "merged_df['avg_annual_rate_$300,000']=merged_df['avg_annual_rate_$300,000'].astype(float)\n",
    "merged_df['avg_annual_rate_$400,000']=merged_df['avg_annual_rate_$400,000'].astype(float)\n",
    "merged_df['avg_annual_rate_$600,000']=merged_df['avg_annual_rate_$600,000'].astype(float)\n",
    "merged_df['avg_annual_rate_$1,000,000']=merged_df['avg_annual_rate_$1,000,000'].astype(float)"
   ]
  },
  {
   "cell_type": "code",
   "execution_count": 27,
   "id": "6be0d117-3186-4f2b-a350-72afa9cbd3ef",
   "metadata": {},
   "outputs": [],
   "source": [
    "relevant_columns = ['avg_annual_rate_$200,000', 'avg_annual_rate_$300,000', \n",
    "                     'avg_annual_rate_$400,000', 'avg_annual_rate_$600,000', \n",
    "                     'avg_annual_rate_$1,000,000', 'count']\n",
    "data_for_correlation = merged_df[relevant_columns]\n",
    "\n",
    "correlation_matrix = data_for_correlation.corr()\n",
    "\n",
    "disaster_correlations = correlation_matrix['count']"
   ]
  },
  {
   "cell_type": "code",
   "execution_count": 28,
   "id": "2672cea0-67c6-4f82-866c-8661a87594db",
   "metadata": {},
   "outputs": [],
   "source": [
    "relevant_columns_2 = ['avg_annual_rate_$200,000', 'avg_annual_rate_$300,000', \n",
    "                     'avg_annual_rate_$400,000', 'avg_annual_rate_$600,000', \n",
    "                     'avg_annual_rate_$1,000,000', 'disasters_per_1000_sq_mi']\n",
    "data_for_correlation_2 = merged_df[relevant_columns_2]\n",
    "\n",
    "correlation_matrix_2 = data_for_correlation_2.corr()\n",
    "\n",
    "disaster_correlations_2 = correlation_matrix_2['disasters_per_1000_sq_mi']"
   ]
  },
  {
   "cell_type": "code",
   "execution_count": 29,
   "id": "9ac22e25-abb8-445c-8711-fc7b0f5b5f0d",
   "metadata": {},
   "outputs": [
    {
     "data": {
      "text/plain": [
       "avg_annual_rate_$200,000      0.191133\n",
       "avg_annual_rate_$300,000      0.203447\n",
       "avg_annual_rate_$400,000      0.210225\n",
       "avg_annual_rate_$600,000      0.204481\n",
       "avg_annual_rate_$1,000,000    0.169452\n",
       "count                         1.000000\n",
       "Name: count, dtype: float64"
      ]
     },
     "execution_count": 29,
     "metadata": {},
     "output_type": "execute_result"
    }
   ],
   "source": [
    "disaster_correlations"
   ]
  },
  {
   "cell_type": "code",
   "execution_count": 30,
   "id": "bda0d9b2-60ed-40c7-b380-ddb4633053be",
   "metadata": {},
   "outputs": [
    {
     "data": {
      "text/plain": [
       "avg_annual_rate_$200,000     -0.269541\n",
       "avg_annual_rate_$300,000     -0.280409\n",
       "avg_annual_rate_$400,000     -0.284686\n",
       "avg_annual_rate_$600,000     -0.281942\n",
       "avg_annual_rate_$1,000,000   -0.295111\n",
       "disasters_per_1000_sq_mi      1.000000\n",
       "Name: disasters_per_1000_sq_mi, dtype: float64"
      ]
     },
     "execution_count": 30,
     "metadata": {},
     "output_type": "execute_result"
    }
   ],
   "source": [
    "disaster_correlations_2"
   ]
  },
  {
   "cell_type": "code",
   "execution_count": 31,
   "id": "21c488ba-46ed-4142-9c39-d15735364e91",
   "metadata": {},
   "outputs": [],
   "source": [
    "cutoff_date = datetime.now() - pd.DateOffset(years=10)"
   ]
  },
  {
   "cell_type": "code",
   "execution_count": 32,
   "id": "f60c399d-5a62-481c-8d7b-0a3f06f2ac28",
   "metadata": {},
   "outputs": [],
   "source": [
    "recent_disasters = disaster_fema[disaster_fema['incidentBeginDate'] >= cutoff_date]"
   ]
  },
  {
   "cell_type": "code",
   "execution_count": 33,
   "id": "9cc586bc-d3d0-46d2-9e86-93e72d97f28e",
   "metadata": {},
   "outputs": [],
   "source": [
    "disaster_counts = recent_disasters.groupby('State').size()"
   ]
  },
  {
   "cell_type": "code",
   "execution_count": 34,
   "id": "bac67110-9d30-4082-b5fd-dde57be91f87",
   "metadata": {},
   "outputs": [],
   "source": [
    "states_with_few_disasters = disaster_counts[disaster_counts <= 5]"
   ]
  },
  {
   "cell_type": "code",
   "execution_count": 35,
   "id": "62c1c0d2-0baf-48fe-bd3c-219ce176bf5d",
   "metadata": {},
   "outputs": [
    {
     "name": "stderr",
     "output_type": "stream",
     "text": [
      "D:\\internets\\Anaconda\\Lib\\site-packages\\seaborn\\_oldcore.py:1119: FutureWarning: use_inf_as_na option is deprecated and will be removed in a future version. Convert inf values to NaN before operating instead.\n",
      "  with pd.option_context('mode.use_inf_as_na', True):\n"
     ]
    },
    {
     "data": {
      "image/png": "[encoded data removed]",
      "text/plain": [
       "<Figure size 1000x600 with 1 Axes>"
      ]
     },
     "metadata": {},
     "output_type": "display_data"
    },
    {
     "name": "stdout",
     "output_type": "stream",
     "text": [
      "High-risk states and days since last disaster:\n",
      "                         State  Days Since Last Disaster\n",
      "State                                                   \n",
      "Alabama                Alabama                       507\n",
      "Alaska                  Alaska                       266\n",
      "Arizona                Arizona                        33\n",
      "Arkansas              Arkansas                        80\n",
      "California          California                        18\n",
      "Colorado              Colorado                        13\n",
      "Connecticut        Connecticut                       215\n",
      "Delaware              Delaware                      1076\n",
      "Florida                Florida                        11\n",
      "Georgia                Georgia                       348\n",
      "Hawaii                  Hawaii                       123\n",
      "Idaho                    Idaho                        18\n",
      "Illinois              Illinois                       330\n",
      "Indiana                Indiana                       500\n",
      "Iowa                      Iowa                        57\n",
      "Kansas                  Kansas                       109\n",
      "Kentucky              Kentucky                        83\n",
      "Louisiana            Louisiana                       348\n",
      "Maine                    Maine                       131\n",
      "Maryland              Maryland                      1470\n",
      "Massachusetts    Massachusetts                       332\n",
      "Michigan              Michigan                       354\n",
      "Minnesota            Minnesota                        57\n",
      "Mississippi        Mississippi                       126\n",
      "Missouri              Missouri                        85\n",
      "Montana                Montana                        34\n",
      "Nebraska              Nebraska                       109\n",
      "Nevada                  Nevada                        27\n",
      "New Hampshire    New Hampshire                       131\n",
      "New Jersey          New Jersey                       395\n",
      "New Mexico          New Mexico                        56\n",
      "New York              New York                       319\n",
      "North Carolina  North Carolina                       684\n",
      "North Dakota      North Dakota                       231\n",
      "Ohio                      Ohio                       151\n",
      "Oklahoma              Oklahoma                        85\n",
      "Oregon                  Oregon                        22\n",
      "Pennsylvania      Pennsylvania                      1077\n",
      "Rhode Island      Rhode Island                       216\n",
      "South Carolina  South Carolina                       349\n",
      "South Dakota      South Dakota                       491\n",
      "Tennessee            Tennessee                        96\n",
      "Texas                    Texas                        38\n",
      "Utah                      Utah                        36\n",
      "Vermont                Vermont                       216\n",
      "Virginia              Virginia                       761\n",
      "Washington          Washington                        20\n",
      "West Virginia    West Virginia                       123\n",
      "Wisconsin            Wisconsin                      1666\n",
      "Wyoming                Wyoming                        13\n"
     ]
    }
   ],
   "source": [
    "disaster_counts = disaster_fema.groupby('State').size()\n",
    "\n",
    "# Define high-risk states based on disaster count (e.g., more than 2 disasters)\n",
    "high_risk_states = disaster_counts[disaster_counts > 2].index.tolist()\n",
    "\n",
    "# Filter for high-risk states\n",
    "high_risk_disasters = disaster_fema[disaster_fema['State'].isin(high_risk_states)]\n",
    "\n",
    "# Find the last disaster date for each high-risk state\n",
    "last_disaster_dates = high_risk_disasters.groupby('State')['incidentBeginDate'].max()\n",
    "\n",
    "# Define the cutoff date for analysis\n",
    "current_date = datetime.now()\n",
    "\n",
    "# Calculate time since last disaster\n",
    "time_since_last_disaster = current_date - last_disaster_dates\n",
    "\n",
    "# Convert time gaps to days\n",
    "time_since_last_disaster_days = time_since_last_disaster.dt.days\n",
    "\n",
    "# Plot distribution of time since last disaster\n",
    "plt.figure(figsize=(10, 6))\n",
    "sns.histplot(time_since_last_disaster_days, bins=20, kde=True)\n",
    "plt.title('Distribution of Time Since Last Disaster in High-Risk States')\n",
    "plt.xlabel('Days Since Last Disaster')\n",
    "plt.ylabel('Frequency')\n",
    "plt.show()\n",
    "\n",
    "# Display states and time since last disaster\n",
    "print(\"High-risk states and days since last disaster:\")\n",
    "print(pd.DataFrame({'State': last_disaster_dates.index, 'Days Since Last Disaster': time_since_last_disaster_days}))"
   ]
  },
  {
   "cell_type": "code",
   "execution_count": 36,
   "id": "5c5ab8ff-f0ee-404e-9f6d-0975162e7a74",
   "metadata": {},
   "outputs": [
    {
     "data": {
      "text/plain": [
       "count     52.000000\n",
       "mean      58.769231\n",
       "std       51.927406\n",
       "min        1.000000\n",
       "25%       33.250000\n",
       "50%       45.000000\n",
       "75%       60.500000\n",
       "max      307.000000\n",
       "Name: count, dtype: float64"
      ]
     },
     "execution_count": 36,
     "metadata": {},
     "output_type": "execute_result"
    }
   ],
   "source": [
    "huh['count'].describe()"
   ]
  },
  {
   "cell_type": "code",
   "execution_count": 37,
   "id": "a02e270a-708a-4382-b8a3-797a5478c885",
   "metadata": {},
   "outputs": [],
   "source": [
    "oshkoshbigosh['year'] = oshkoshbigosh['incidentBeginDate'].dt.year"
   ]
  },
  {
   "cell_type": "code",
   "execution_count": 38,
   "id": "04adf1cf-d3ec-4440-a5d6-acf7da4dd439",
   "metadata": {},
   "outputs": [],
   "source": [
    "disasters_per_year = oshkoshbigosh.groupby('State')['year'].value_counts().reset_index()"
   ]
  },
  {
   "cell_type": "code",
   "execution_count": 39,
   "id": "f19b9041-17ce-4070-a575-b253c6730f8e",
   "metadata": {},
   "outputs": [
    {
     "data": {
      "text/html": [
       "<div>\n",
       "<style scoped>\n",
       "    .dataframe tbody tr th:only-of-type {\n",
       "        vertical-align: middle;\n",
       "    }\n",
       "\n",
       "    .dataframe tbody tr th {\n",
       "        vertical-align: top;\n",
       "    }\n",
       "\n",
       "    .dataframe thead th {\n",
       "        text-align: right;\n",
       "    }\n",
       "</style>\n",
       "<table border=\"1\" class=\"dataframe\">\n",
       "  <thead>\n",
       "    <tr style=\"text-align: right;\">\n",
       "      <th></th>\n",
       "      <th>State</th>\n",
       "      <th>year</th>\n",
       "      <th>count</th>\n",
       "    </tr>\n",
       "  </thead>\n",
       "  <tbody>\n",
       "    <tr>\n",
       "      <th>108</th>\n",
       "      <td>California</td>\n",
       "      <td>2000.0</td>\n",
       "      <td>1</td>\n",
       "    </tr>\n",
       "    <tr>\n",
       "      <th>95</th>\n",
       "      <td>California</td>\n",
       "      <td>2002.0</td>\n",
       "      <td>12</td>\n",
       "    </tr>\n",
       "    <tr>\n",
       "      <th>91</th>\n",
       "      <td>California</td>\n",
       "      <td>2003.0</td>\n",
       "      <td>18</td>\n",
       "    </tr>\n",
       "    <tr>\n",
       "      <th>87</th>\n",
       "      <td>California</td>\n",
       "      <td>2004.0</td>\n",
       "      <td>23</td>\n",
       "    </tr>\n",
       "    <tr>\n",
       "      <th>97</th>\n",
       "      <td>California</td>\n",
       "      <td>2005.0</td>\n",
       "      <td>10</td>\n",
       "    </tr>\n",
       "    <tr>\n",
       "      <th>101</th>\n",
       "      <td>California</td>\n",
       "      <td>2006.0</td>\n",
       "      <td>9</td>\n",
       "    </tr>\n",
       "    <tr>\n",
       "      <th>88</th>\n",
       "      <td>California</td>\n",
       "      <td>2007.0</td>\n",
       "      <td>20</td>\n",
       "    </tr>\n",
       "    <tr>\n",
       "      <th>89</th>\n",
       "      <td>California</td>\n",
       "      <td>2008.0</td>\n",
       "      <td>18</td>\n",
       "    </tr>\n",
       "    <tr>\n",
       "      <th>98</th>\n",
       "      <td>California</td>\n",
       "      <td>2009.0</td>\n",
       "      <td>10</td>\n",
       "    </tr>\n",
       "    <tr>\n",
       "      <th>100</th>\n",
       "      <td>California</td>\n",
       "      <td>2010.0</td>\n",
       "      <td>9</td>\n",
       "    </tr>\n",
       "    <tr>\n",
       "      <th>106</th>\n",
       "      <td>California</td>\n",
       "      <td>2011.0</td>\n",
       "      <td>5</td>\n",
       "    </tr>\n",
       "    <tr>\n",
       "      <th>107</th>\n",
       "      <td>California</td>\n",
       "      <td>2012.0</td>\n",
       "      <td>3</td>\n",
       "    </tr>\n",
       "    <tr>\n",
       "      <th>99</th>\n",
       "      <td>California</td>\n",
       "      <td>2013.0</td>\n",
       "      <td>9</td>\n",
       "    </tr>\n",
       "    <tr>\n",
       "      <th>90</th>\n",
       "      <td>California</td>\n",
       "      <td>2014.0</td>\n",
       "      <td>18</td>\n",
       "    </tr>\n",
       "    <tr>\n",
       "      <th>105</th>\n",
       "      <td>California</td>\n",
       "      <td>2015.0</td>\n",
       "      <td>6</td>\n",
       "    </tr>\n",
       "    <tr>\n",
       "      <th>94</th>\n",
       "      <td>California</td>\n",
       "      <td>2016.0</td>\n",
       "      <td>13</td>\n",
       "    </tr>\n",
       "    <tr>\n",
       "      <th>85</th>\n",
       "      <td>California</td>\n",
       "      <td>2017.0</td>\n",
       "      <td>32</td>\n",
       "    </tr>\n",
       "    <tr>\n",
       "      <th>93</th>\n",
       "      <td>California</td>\n",
       "      <td>2018.0</td>\n",
       "      <td>16</td>\n",
       "    </tr>\n",
       "    <tr>\n",
       "      <th>92</th>\n",
       "      <td>California</td>\n",
       "      <td>2019.0</td>\n",
       "      <td>16</td>\n",
       "    </tr>\n",
       "    <tr>\n",
       "      <th>86</th>\n",
       "      <td>California</td>\n",
       "      <td>2020.0</td>\n",
       "      <td>23</td>\n",
       "    </tr>\n",
       "    <tr>\n",
       "      <th>96</th>\n",
       "      <td>California</td>\n",
       "      <td>2021.0</td>\n",
       "      <td>11</td>\n",
       "    </tr>\n",
       "    <tr>\n",
       "      <th>104</th>\n",
       "      <td>California</td>\n",
       "      <td>2022.0</td>\n",
       "      <td>7</td>\n",
       "    </tr>\n",
       "    <tr>\n",
       "      <th>102</th>\n",
       "      <td>California</td>\n",
       "      <td>2023.0</td>\n",
       "      <td>9</td>\n",
       "    </tr>\n",
       "    <tr>\n",
       "      <th>103</th>\n",
       "      <td>California</td>\n",
       "      <td>2024.0</td>\n",
       "      <td>9</td>\n",
       "    </tr>\n",
       "  </tbody>\n",
       "</table>\n",
       "</div>"
      ],
      "text/plain": [
       "          State    year  count\n",
       "108  California  2000.0      1\n",
       "95   California  2002.0     12\n",
       "91   California  2003.0     18\n",
       "87   California  2004.0     23\n",
       "97   California  2005.0     10\n",
       "101  California  2006.0      9\n",
       "88   California  2007.0     20\n",
       "89   California  2008.0     18\n",
       "98   California  2009.0     10\n",
       "100  California  2010.0      9\n",
       "106  California  2011.0      5\n",
       "107  California  2012.0      3\n",
       "99   California  2013.0      9\n",
       "90   California  2014.0     18\n",
       "105  California  2015.0      6\n",
       "94   California  2016.0     13\n",
       "85   California  2017.0     32\n",
       "93   California  2018.0     16\n",
       "92   California  2019.0     16\n",
       "86   California  2020.0     23\n",
       "96   California  2021.0     11\n",
       "104  California  2022.0      7\n",
       "102  California  2023.0      9\n",
       "103  California  2024.0      9"
      ]
     },
     "execution_count": 39,
     "metadata": {},
     "output_type": "execute_result"
    }
   ],
   "source": [
    "disasters_per_year[disasters_per_year['State'] == 'California'].sort_values(by = 'year')"
   ]
  },
  {
   "cell_type": "code",
   "execution_count": 40,
   "id": "fdaf9867-bf9f-4273-b9eb-8a186afedd5d",
   "metadata": {},
   "outputs": [],
   "source": [
    "disaster_numbers = disaster_fema['incidentType'].value_counts().reset_index()"
   ]
  },
  {
   "cell_type": "code",
   "execution_count": 41,
   "id": "1954aaad-f69a-4982-ac17-ce20b2832934",
   "metadata": {},
   "outputs": [],
   "source": [
    "delete_these = ['Toxic Substances','Chemical','Dam/Levee Break']\n",
    "disaster_numbers = disaster_numbers[~disaster_numbers['incidentType'].isin(delete_these)]\n"
   ]
  },
  {
   "cell_type": "code",
   "execution_count": 42,
   "id": "49939541-40ca-4c5b-9ef0-c2dd276c5423",
   "metadata": {},
   "outputs": [
    {
     "data": {
      "text/plain": [
       "<Axes: xlabel='count', ylabel='incidentType'>"
      ]
     },
     "execution_count": 42,
     "metadata": {},
     "output_type": "execute_result"
    },
    {
     "data": {
      "image/png": "[encoded data removed]",
      "text/plain": [
       "<Figure size 640x480 with 1 Axes>"
      ]
     },
     "metadata": {},
     "output_type": "display_data"
    }
   ],
   "source": [
    "sns.barplot(disaster_numbers, y= 'incidentType', x='count')"
   ]
  },
  {
   "cell_type": "code",
   "execution_count": 43,
   "id": "a3386ad7-5a81-46f7-86e5-1676127a96d2",
   "metadata": {},
   "outputs": [
    {
     "data": {
      "image/png": "[encoded data removed]",
      "text/plain": [
       "<Figure size 1500x1000 with 1 Axes>"
      ]
     },
     "metadata": {},
     "output_type": "display_data"
    }
   ],
   "source": [
    "sns.set_theme(style = 'darkgrid')\n",
    "plt.figure(figsize=(15,10))\n",
    "ax = sns.barplot(disaster_numbers, x=\"count\", y=\"incidentType\",palette = 'inferno', estimator=\"sum\", errorbar=None)\n",
    "ax.set(xlabel='Count of Disasters', ylabel='Incident Type')\n",
    "ax.bar_label(ax.containers[0], fontsize=10);"
   ]
  },
  {
   "cell_type": "code",
   "execution_count": 44,
   "id": "eb4ab855-42e8-4de7-a0ff-61264b600609",
   "metadata": {},
   "outputs": [
    {
     "data": {
      "text/plain": [
       "count     52.000000\n",
       "mean      58.769231\n",
       "std       51.927406\n",
       "min        1.000000\n",
       "25%       33.250000\n",
       "50%       45.000000\n",
       "75%       60.500000\n",
       "max      307.000000\n",
       "Name: count, dtype: float64"
      ]
     },
     "execution_count": 44,
     "metadata": {},
     "output_type": "execute_result"
    }
   ],
   "source": [
    "huh['count'].describe()"
   ]
  },
  {
   "cell_type": "code",
   "execution_count": 45,
   "id": "275c5aa3-d12e-418f-a39a-5507cb282a80",
   "metadata": {},
   "outputs": [],
   "source": [
    "huh['count'] = pd.to_numeric(huh['count'], errors='coerce')\n",
    "\n",
    "def categorize_risk(count):\n",
    "    if count <= 33:\n",
    "        return 'Low Risk'\n",
    "    elif count <= 66:\n",
    "        return 'Medium Risk'\n",
    "    else:\n",
    "        return 'High Risk'\n",
    "\n",
    "huh['risk'] = huh['count'].apply(categorize_risk)"
   ]
  },
  {
   "cell_type": "code",
   "execution_count": 46,
   "id": "eeb71458-562d-4c07-9b72-b453e19bb247",
   "metadata": {},
   "outputs": [],
   "source": [
    "disasters_per_year = disasters_per_year.rename(columns={'count': 'disasters_per_year'})"
   ]
  },
  {
   "cell_type": "code",
   "execution_count": 47,
   "id": "81537e8f-1c51-43cf-93b2-99e730f6d867",
   "metadata": {},
   "outputs": [],
   "source": [
    "huh = huh.rename(columns = {'count' : 'total_disasters'})"
   ]
  },
  {
   "cell_type": "code",
   "execution_count": 48,
   "id": "a58e6014-d984-477c-8353-9bc1601df8b2",
   "metadata": {},
   "outputs": [],
   "source": [
    "merged_per_year_risk = pd.merge(disasters_per_year, huh, on='State')"
   ]
  },
  {
   "cell_type": "code",
   "execution_count": 49,
   "id": "a7487f16-9b32-4ea1-9cc8-d59ba35db8de",
   "metadata": {},
   "outputs": [],
   "source": [
    "to_merge = oshkoshbigosh[['State','year','incidentBeginDate']]"
   ]
  },
  {
   "cell_type": "code",
   "execution_count": 50,
   "id": "df1f350f-2dae-4897-a841-940aea33d91e",
   "metadata": {},
   "outputs": [],
   "source": [
    "test = pd.merge(to_merge,merged_per_year_risk,on = ['State','year'])"
   ]
  },
  {
   "cell_type": "code",
   "execution_count": 51,
   "id": "b61abddd-776b-43d3-8d43-6d65dc5f3e9c",
   "metadata": {},
   "outputs": [],
   "source": [
    "current_date = pd.Timestamp.now()\n",
    "test['days_since_incident'] = (current_date - test['incidentBeginDate']).dt.days"
   ]
  },
  {
   "cell_type": "code",
   "execution_count": 52,
   "id": "5b2909f1-63ea-4ded-bb1e-75c41d2f695a",
   "metadata": {},
   "outputs": [
    {
     "data": {
      "text/html": [
       "<div>\n",
       "<style scoped>\n",
       "    .dataframe tbody tr th:only-of-type {\n",
       "        vertical-align: middle;\n",
       "    }\n",
       "\n",
       "    .dataframe tbody tr th {\n",
       "        vertical-align: top;\n",
       "    }\n",
       "\n",
       "    .dataframe thead th {\n",
       "        text-align: right;\n",
       "    }\n",
       "</style>\n",
       "<table border=\"1\" class=\"dataframe\">\n",
       "  <thead>\n",
       "    <tr style=\"text-align: right;\">\n",
       "      <th></th>\n",
       "      <th>year</th>\n",
       "      <th>incidentBeginDate</th>\n",
       "      <th>disasters_per_year</th>\n",
       "      <th>total_disasters</th>\n",
       "      <th>total_area_sq_miles</th>\n",
       "      <th>disasters_per_1000_sq_mi</th>\n",
       "      <th>days_since_incident</th>\n",
       "    </tr>\n",
       "  </thead>\n",
       "  <tbody>\n",
       "    <tr>\n",
       "      <th>count</th>\n",
       "      <td>3054.000000</td>\n",
       "      <td>3054</td>\n",
       "      <td>3054.000000</td>\n",
       "      <td>3054.000000</td>\n",
       "      <td>3054.000000</td>\n",
       "      <td>3054.000000</td>\n",
       "      <td>3054.000000</td>\n",
       "    </tr>\n",
       "    <tr>\n",
       "      <th>mean</th>\n",
       "      <td>2011.997380</td>\n",
       "      <td>2012-06-24 02:07:46.797642240</td>\n",
       "      <td>7.705959</td>\n",
       "      <td>103.836280</td>\n",
       "      <td>100800.012115</td>\n",
       "      <td>1.489108</td>\n",
       "      <td>4431.911264</td>\n",
       "    </tr>\n",
       "    <tr>\n",
       "      <th>min</th>\n",
       "      <td>1999.000000</td>\n",
       "      <td>1999-08-06 00:00:00</td>\n",
       "      <td>1.000000</td>\n",
       "      <td>16.000000</td>\n",
       "      <td>1545.000000</td>\n",
       "      <td>0.084162</td>\n",
       "      <td>11.000000</td>\n",
       "    </tr>\n",
       "    <tr>\n",
       "      <th>25%</th>\n",
       "      <td>2006.000000</td>\n",
       "      <td>2006-06-02 12:00:00</td>\n",
       "      <td>2.000000</td>\n",
       "      <td>45.000000</td>\n",
       "      <td>52420.000000</td>\n",
       "      <td>0.736907</td>\n",
       "      <td>1979.000000</td>\n",
       "    </tr>\n",
       "    <tr>\n",
       "      <th>50%</th>\n",
       "      <td>2011.000000</td>\n",
       "      <td>2011-09-04 00:00:00</td>\n",
       "      <td>4.000000</td>\n",
       "      <td>62.000000</td>\n",
       "      <td>71298.000000</td>\n",
       "      <td>1.011064</td>\n",
       "      <td>4726.000000</td>\n",
       "    </tr>\n",
       "    <tr>\n",
       "      <th>75%</th>\n",
       "      <td>2019.000000</td>\n",
       "      <td>2019-03-13 00:00:00</td>\n",
       "      <td>9.000000</td>\n",
       "      <td>152.000000</td>\n",
       "      <td>113990.000000</td>\n",
       "      <td>1.875439</td>\n",
       "      <td>6645.500000</td>\n",
       "    </tr>\n",
       "    <tr>\n",
       "      <th>max</th>\n",
       "      <td>2024.000000</td>\n",
       "      <td>2024-08-01 00:00:00</td>\n",
       "      <td>57.000000</td>\n",
       "      <td>307.000000</td>\n",
       "      <td>665384.000000</td>\n",
       "      <td>13.592233</td>\n",
       "      <td>9138.000000</td>\n",
       "    </tr>\n",
       "    <tr>\n",
       "      <th>std</th>\n",
       "      <td>7.058596</td>\n",
       "      <td>NaN</td>\n",
       "      <td>9.585616</td>\n",
       "      <td>84.606447</td>\n",
       "      <td>99819.103441</td>\n",
       "      <td>1.472368</td>\n",
       "      <td>2569.091560</td>\n",
       "    </tr>\n",
       "  </tbody>\n",
       "</table>\n",
       "</div>"
      ],
      "text/plain": [
       "              year              incidentBeginDate  disasters_per_year  \\\n",
       "count  3054.000000                           3054         3054.000000   \n",
       "mean   2011.997380  2012-06-24 02:07:46.797642240            7.705959   \n",
       "min    1999.000000            1999-08-06 00:00:00            1.000000   \n",
       "25%    2006.000000            2006-06-02 12:00:00            2.000000   \n",
       "50%    2011.000000            2011-09-04 00:00:00            4.000000   \n",
       "75%    2019.000000            2019-03-13 00:00:00            9.000000   \n",
       "max    2024.000000            2024-08-01 00:00:00           57.000000   \n",
       "std       7.058596                            NaN            9.585616   \n",
       "\n",
       "       total_disasters  total_area_sq_miles  disasters_per_1000_sq_mi  \\\n",
       "count      3054.000000          3054.000000               3054.000000   \n",
       "mean        103.836280        100800.012115                  1.489108   \n",
       "min          16.000000          1545.000000                  0.084162   \n",
       "25%          45.000000         52420.000000                  0.736907   \n",
       "50%          62.000000         71298.000000                  1.011064   \n",
       "75%         152.000000        113990.000000                  1.875439   \n",
       "max         307.000000        665384.000000                 13.592233   \n",
       "std          84.606447         99819.103441                  1.472368   \n",
       "\n",
       "       days_since_incident  \n",
       "count          3054.000000  \n",
       "mean           4431.911264  \n",
       "min              11.000000  \n",
       "25%            1979.000000  \n",
       "50%            4726.000000  \n",
       "75%            6645.500000  \n",
       "max            9138.000000  \n",
       "std            2569.091560  "
      ]
     },
     "execution_count": 52,
     "metadata": {},
     "output_type": "execute_result"
    }
   ],
   "source": [
    "test.describe()"
   ]
  },
  {
   "cell_type": "code",
   "execution_count": 53,
   "id": "852ddf33-ef73-45eb-9718-69cdcf5763d4",
   "metadata": {},
   "outputs": [],
   "source": [
    "high_risk_accidents = test[test['risk'] == 'High Risk']"
   ]
  },
  {
   "cell_type": "code",
   "execution_count": 54,
   "id": "2b01f72a-96fc-405f-a370-8d219f047e2e",
   "metadata": {},
   "outputs": [],
   "source": [
    "medium_risk_accidents = test[test['risk'] == 'Medium Risk']"
   ]
  },
  {
   "cell_type": "code",
   "execution_count": 55,
   "id": "dbcb8513-b3c6-4c31-95b4-991ac99b9904",
   "metadata": {},
   "outputs": [],
   "source": [
    "low_risk_accidents = test[test['risk'] == 'Low Risk']"
   ]
  },
  {
   "cell_type": "code",
   "execution_count": 56,
   "id": "abe8325a-73d5-449d-8a27-267253ba4d40",
   "metadata": {},
   "outputs": [],
   "source": [
    "high_risk_plot = high_risk_accidents.groupby('State')['days_since_incident'].min().sort_values().reset_index()"
   ]
  },
  {
   "cell_type": "code",
   "execution_count": 57,
   "id": "adceb95a-8716-42d2-a358-832be1a0f383",
   "metadata": {},
   "outputs": [],
   "source": [
    "medium_risk_plot = medium_risk_accidents.groupby('State')['days_since_incident'].min().sort_values().reset_index()"
   ]
  },
  {
   "cell_type": "code",
   "execution_count": 58,
   "id": "a9164444-29c8-4a24-af23-1b56915d553a",
   "metadata": {},
   "outputs": [],
   "source": [
    "low_risk_plot = low_risk_accidents.groupby('State')['days_since_incident'].min().sort_values().reset_index()"
   ]
  },
  {
   "cell_type": "code",
   "execution_count": 59,
   "id": "8bcd66db-4546-42b0-823f-43ccb78cc0bd",
   "metadata": {},
   "outputs": [],
   "source": [
    "high_risk_plot.to_csv('high_risk_plot.csv', index=False)"
   ]
  },
  {
   "cell_type": "code",
   "execution_count": 60,
   "id": "89b30310-5078-4c43-af10-9ca62d864f28",
   "metadata": {},
   "outputs": [],
   "source": [
    "medium_risk_plot.to_csv('medium_risk_plot.csv', index=False)"
   ]
  },
  {
   "cell_type": "code",
   "execution_count": 61,
   "id": "5d1d1926-e2f9-4791-9b21-db6004179ff4",
   "metadata": {},
   "outputs": [],
   "source": [
    "low_risk_plot.to_csv('low_risk_plot.csv', index=False)"
   ]
  },
  {
   "cell_type": "code",
   "execution_count": 62,
   "id": "9c454199-d30e-4f52-bbaa-846fb2e2c85a",
   "metadata": {},
   "outputs": [
    {
     "data": {
      "text/plain": [
       "State\n",
       "Alabama           507\n",
       "Alaska            266\n",
       "Arkansas           80\n",
       "Georgia           348\n",
       "Hawaii            123\n",
       "Idaho              18\n",
       "Iowa               57\n",
       "Kansas            109\n",
       "Kentucky           83\n",
       "Louisiana         348\n",
       "Maine             131\n",
       "Massachusetts     332\n",
       "Minnesota          57\n",
       "Mississippi       126\n",
       "Missouri           85\n",
       "Nebraska          109\n",
       "New Hampshire     131\n",
       "New Jersey        395\n",
       "New York          319\n",
       "North Carolina    684\n",
       "North Dakota      231\n",
       "South Dakota      491\n",
       "Tennessee          96\n",
       "Utah               36\n",
       "Vermont           216\n",
       "Virginia          761\n",
       "West Virginia     123\n",
       "Wyoming            13\n",
       "Name: days_since_incident, dtype: int64"
      ]
     },
     "execution_count": 62,
     "metadata": {},
     "output_type": "execute_result"
    }
   ],
   "source": [
    "medium_risk_accidents.groupby('State')['days_since_incident'].min()"
   ]
  },
  {
   "cell_type": "code",
   "execution_count": 63,
   "id": "4289541d-829d-467b-8554-22285f02bc8d",
   "metadata": {},
   "outputs": [
    {
     "data": {
      "text/html": [
       "<div>\n",
       "<style scoped>\n",
       "    .dataframe tbody tr th:only-of-type {\n",
       "        vertical-align: middle;\n",
       "    }\n",
       "\n",
       "    .dataframe tbody tr th {\n",
       "        vertical-align: top;\n",
       "    }\n",
       "\n",
       "    .dataframe thead th {\n",
       "        text-align: right;\n",
       "    }\n",
       "</style>\n",
       "<table border=\"1\" class=\"dataframe\">\n",
       "  <thead>\n",
       "    <tr style=\"text-align: right;\">\n",
       "      <th></th>\n",
       "      <th>incidentBeginDate</th>\n",
       "      <th>disasters_per_year</th>\n",
       "    </tr>\n",
       "    <tr>\n",
       "      <th>State</th>\n",
       "      <th></th>\n",
       "      <th></th>\n",
       "    </tr>\n",
       "  </thead>\n",
       "  <tbody>\n",
       "    <tr>\n",
       "      <th>Alabama</th>\n",
       "      <td>2023-03-24</td>\n",
       "      <td>4.207547</td>\n",
       "    </tr>\n",
       "    <tr>\n",
       "      <th>Alaska</th>\n",
       "      <td>2023-11-20</td>\n",
       "      <td>3.321429</td>\n",
       "    </tr>\n",
       "    <tr>\n",
       "      <th>Arkansas</th>\n",
       "      <td>2024-05-24</td>\n",
       "      <td>3.177778</td>\n",
       "    </tr>\n",
       "    <tr>\n",
       "      <th>Georgia</th>\n",
       "      <td>2023-08-30</td>\n",
       "      <td>3.333333</td>\n",
       "    </tr>\n",
       "    <tr>\n",
       "      <th>Hawaii</th>\n",
       "      <td>2024-04-11</td>\n",
       "      <td>3.488889</td>\n",
       "    </tr>\n",
       "    <tr>\n",
       "      <th>Idaho</th>\n",
       "      <td>2024-07-25</td>\n",
       "      <td>2.945946</td>\n",
       "    </tr>\n",
       "    <tr>\n",
       "      <th>Iowa</th>\n",
       "      <td>2024-06-16</td>\n",
       "      <td>3.045455</td>\n",
       "    </tr>\n",
       "    <tr>\n",
       "      <th>Kansas</th>\n",
       "      <td>2024-04-25</td>\n",
       "      <td>4.206349</td>\n",
       "    </tr>\n",
       "    <tr>\n",
       "      <th>Kentucky</th>\n",
       "      <td>2024-05-21</td>\n",
       "      <td>3.036364</td>\n",
       "    </tr>\n",
       "    <tr>\n",
       "      <th>Louisiana</th>\n",
       "      <td>2023-08-30</td>\n",
       "      <td>4.966667</td>\n",
       "    </tr>\n",
       "    <tr>\n",
       "      <th>Maine</th>\n",
       "      <td>2024-04-03</td>\n",
       "      <td>3.454545</td>\n",
       "    </tr>\n",
       "    <tr>\n",
       "      <th>Massachusetts</th>\n",
       "      <td>2023-09-15</td>\n",
       "      <td>2.942857</td>\n",
       "    </tr>\n",
       "    <tr>\n",
       "      <th>Minnesota</th>\n",
       "      <td>2024-06-16</td>\n",
       "      <td>2.297297</td>\n",
       "    </tr>\n",
       "    <tr>\n",
       "      <th>Mississippi</th>\n",
       "      <td>2024-04-08</td>\n",
       "      <td>4.370370</td>\n",
       "    </tr>\n",
       "    <tr>\n",
       "      <th>Missouri</th>\n",
       "      <td>2024-05-19</td>\n",
       "      <td>3.408163</td>\n",
       "    </tr>\n",
       "    <tr>\n",
       "      <th>Nebraska</th>\n",
       "      <td>2024-04-25</td>\n",
       "      <td>3.075472</td>\n",
       "    </tr>\n",
       "    <tr>\n",
       "      <th>New Hampshire</th>\n",
       "      <td>2024-04-03</td>\n",
       "      <td>3.044444</td>\n",
       "    </tr>\n",
       "    <tr>\n",
       "      <th>New Jersey</th>\n",
       "      <td>2023-07-14</td>\n",
       "      <td>2.529412</td>\n",
       "    </tr>\n",
       "    <tr>\n",
       "      <th>New York</th>\n",
       "      <td>2023-09-28</td>\n",
       "      <td>3.200000</td>\n",
       "    </tr>\n",
       "    <tr>\n",
       "      <th>North Carolina</th>\n",
       "      <td>2022-09-28</td>\n",
       "      <td>3.200000</td>\n",
       "    </tr>\n",
       "    <tr>\n",
       "      <th>North Dakota</th>\n",
       "      <td>2023-12-25</td>\n",
       "      <td>3.046512</td>\n",
       "    </tr>\n",
       "    <tr>\n",
       "      <th>South Dakota</th>\n",
       "      <td>2023-04-09</td>\n",
       "      <td>3.645161</td>\n",
       "    </tr>\n",
       "    <tr>\n",
       "      <th>Tennessee</th>\n",
       "      <td>2024-05-08</td>\n",
       "      <td>3.813559</td>\n",
       "    </tr>\n",
       "    <tr>\n",
       "      <th>Utah</th>\n",
       "      <td>2024-07-07</td>\n",
       "      <td>3.800000</td>\n",
       "    </tr>\n",
       "    <tr>\n",
       "      <th>Vermont</th>\n",
       "      <td>2024-01-09</td>\n",
       "      <td>2.600000</td>\n",
       "    </tr>\n",
       "    <tr>\n",
       "      <th>Virginia</th>\n",
       "      <td>2022-07-13</td>\n",
       "      <td>3.285714</td>\n",
       "    </tr>\n",
       "    <tr>\n",
       "      <th>West Virginia</th>\n",
       "      <td>2024-04-11</td>\n",
       "      <td>2.958333</td>\n",
       "    </tr>\n",
       "    <tr>\n",
       "      <th>Wyoming</th>\n",
       "      <td>2024-07-30</td>\n",
       "      <td>2.470588</td>\n",
       "    </tr>\n",
       "  </tbody>\n",
       "</table>\n",
       "</div>"
      ],
      "text/plain": [
       "               incidentBeginDate  disasters_per_year\n",
       "State                                               \n",
       "Alabama               2023-03-24            4.207547\n",
       "Alaska                2023-11-20            3.321429\n",
       "Arkansas              2024-05-24            3.177778\n",
       "Georgia               2023-08-30            3.333333\n",
       "Hawaii                2024-04-11            3.488889\n",
       "Idaho                 2024-07-25            2.945946\n",
       "Iowa                  2024-06-16            3.045455\n",
       "Kansas                2024-04-25            4.206349\n",
       "Kentucky              2024-05-21            3.036364\n",
       "Louisiana             2023-08-30            4.966667\n",
       "Maine                 2024-04-03            3.454545\n",
       "Massachusetts         2023-09-15            2.942857\n",
       "Minnesota             2024-06-16            2.297297\n",
       "Mississippi           2024-04-08            4.370370\n",
       "Missouri              2024-05-19            3.408163\n",
       "Nebraska              2024-04-25            3.075472\n",
       "New Hampshire         2024-04-03            3.044444\n",
       "New Jersey            2023-07-14            2.529412\n",
       "New York              2023-09-28            3.200000\n",
       "North Carolina        2022-09-28            3.200000\n",
       "North Dakota          2023-12-25            3.046512\n",
       "South Dakota          2023-04-09            3.645161\n",
       "Tennessee             2024-05-08            3.813559\n",
       "Utah                  2024-07-07            3.800000\n",
       "Vermont               2024-01-09            2.600000\n",
       "Virginia              2022-07-13            3.285714\n",
       "West Virginia         2024-04-11            2.958333\n",
       "Wyoming               2024-07-30            2.470588"
      ]
     },
     "execution_count": 63,
     "metadata": {},
     "output_type": "execute_result"
    }
   ],
   "source": [
    "medium_risk_accidents.groupby('State').agg({'incidentBeginDate': 'max','disasters_per_year': 'mean'})"
   ]
  },
  {
   "cell_type": "code",
   "execution_count": 64,
   "id": "2391922d-f946-4a02-9e91-94c85d362f65",
   "metadata": {},
   "outputs": [
    {
     "data": {
      "text/html": [
       "<div>\n",
       "<style scoped>\n",
       "    .dataframe tbody tr th:only-of-type {\n",
       "        vertical-align: middle;\n",
       "    }\n",
       "\n",
       "    .dataframe tbody tr th {\n",
       "        vertical-align: top;\n",
       "    }\n",
       "\n",
       "    .dataframe thead th {\n",
       "        text-align: right;\n",
       "    }\n",
       "</style>\n",
       "<table border=\"1\" class=\"dataframe\">\n",
       "  <thead>\n",
       "    <tr style=\"text-align: right;\">\n",
       "      <th></th>\n",
       "      <th>incidentBeginDate</th>\n",
       "      <th>disasters_per_year</th>\n",
       "    </tr>\n",
       "    <tr>\n",
       "      <th>State</th>\n",
       "      <th></th>\n",
       "      <th></th>\n",
       "    </tr>\n",
       "  </thead>\n",
       "  <tbody>\n",
       "    <tr>\n",
       "      <th>Arizona</th>\n",
       "      <td>2024-07-10</td>\n",
       "      <td>5.047619</td>\n",
       "    </tr>\n",
       "    <tr>\n",
       "      <th>California</th>\n",
       "      <td>2024-07-25</td>\n",
       "      <td>16.693811</td>\n",
       "    </tr>\n",
       "    <tr>\n",
       "      <th>Colorado</th>\n",
       "      <td>2024-07-30</td>\n",
       "      <td>7.867470</td>\n",
       "    </tr>\n",
       "    <tr>\n",
       "      <th>Florida</th>\n",
       "      <td>2024-08-01</td>\n",
       "      <td>7.242424</td>\n",
       "    </tr>\n",
       "    <tr>\n",
       "      <th>Montana</th>\n",
       "      <td>2024-07-09</td>\n",
       "      <td>5.181818</td>\n",
       "    </tr>\n",
       "    <tr>\n",
       "      <th>Nevada</th>\n",
       "      <td>2024-07-16</td>\n",
       "      <td>4.766234</td>\n",
       "    </tr>\n",
       "    <tr>\n",
       "      <th>New Mexico</th>\n",
       "      <td>2024-06-17</td>\n",
       "      <td>6.473684</td>\n",
       "    </tr>\n",
       "    <tr>\n",
       "      <th>Oklahoma</th>\n",
       "      <td>2024-05-19</td>\n",
       "      <td>14.101124</td>\n",
       "    </tr>\n",
       "    <tr>\n",
       "      <th>Oregon</th>\n",
       "      <td>2024-07-21</td>\n",
       "      <td>8.140187</td>\n",
       "    </tr>\n",
       "    <tr>\n",
       "      <th>Texas</th>\n",
       "      <td>2024-07-05</td>\n",
       "      <td>26.611940</td>\n",
       "    </tr>\n",
       "    <tr>\n",
       "      <th>Washington</th>\n",
       "      <td>2024-07-23</td>\n",
       "      <td>9.250000</td>\n",
       "    </tr>\n",
       "  </tbody>\n",
       "</table>\n",
       "</div>"
      ],
      "text/plain": [
       "           incidentBeginDate  disasters_per_year\n",
       "State                                           \n",
       "Arizona           2024-07-10            5.047619\n",
       "California        2024-07-25           16.693811\n",
       "Colorado          2024-07-30            7.867470\n",
       "Florida           2024-08-01            7.242424\n",
       "Montana           2024-07-09            5.181818\n",
       "Nevada            2024-07-16            4.766234\n",
       "New Mexico        2024-06-17            6.473684\n",
       "Oklahoma          2024-05-19           14.101124\n",
       "Oregon            2024-07-21            8.140187\n",
       "Texas             2024-07-05           26.611940\n",
       "Washington        2024-07-23            9.250000"
      ]
     },
     "execution_count": 64,
     "metadata": {},
     "output_type": "execute_result"
    }
   ],
   "source": [
    "high_risk_accidents.groupby('State').agg({'incidentBeginDate': 'max','disasters_per_year': 'mean'})"
   ]
  },
  {
   "cell_type": "code",
   "execution_count": 65,
   "id": "d4023155-d21d-4664-86cc-128559df9f32",
   "metadata": {},
   "outputs": [
    {
     "data": {
      "text/plain": [
       "incidentType\n",
       "Fire                 1298\n",
       "Severe Storm          844\n",
       "Hurricane             307\n",
       "Flood                 235\n",
       "Biological            167\n",
       "Snowstorm              97\n",
       "Severe Ice Storm       62\n",
       "Tornado                40\n",
       "Typhoon                24\n",
       "Earthquake             19\n",
       "Coastal Storm          19\n",
       "Winter Storm           13\n",
       "Mud/Landslide          10\n",
       "Tropical Storm         10\n",
       "Dam/Levee Break         4\n",
       "Freezing                4\n",
       "Tsunami                 3\n",
       "Volcanic Eruption       2\n",
       "Chemical                1\n",
       "Toxic Substances        1\n",
       "Drought                 1\n",
       "Name: count, dtype: int64"
      ]
     },
     "execution_count": 65,
     "metadata": {},
     "output_type": "execute_result"
    }
   ],
   "source": [
    "disaster_fema['incidentType'].value_counts()"
   ]
  },
  {
   "cell_type": "code",
   "execution_count": 66,
   "id": "49f5ca0b-169b-4ad9-9a9b-e3d6a1b7eed9",
   "metadata": {},
   "outputs": [],
   "source": [
    "disaster_types = [\n",
    "    'Fire', 'Severe Storm', 'Hurricane', 'Flood', 'Biological', 'Snowstorm', \n",
    "    'Severe Ice Storm', 'Tornado','TORNADOES', 'Typhoon', 'Earthquake', 'Coastal Storm', \n",
    "    'Winter Storm', 'Mud/Landslide', 'Tropical Storm', 'Dam/Levee Break', \n",
    "    'Freezing', 'Tsunami', 'Volcanic Eruption', 'Chemical', 'Toxic Substances', \n",
    "    'Drought']"
   ]
  },
  {
   "cell_type": "code",
   "execution_count": 67,
   "id": "9668cdde-0d53-41b4-9b96-f8af40f9371f",
   "metadata": {},
   "outputs": [],
   "source": [
    "disaster_types_pattern = '|'.join([re.escape(dtype) for dtype in disaster_types])"
   ]
  },
  {
   "cell_type": "code",
   "execution_count": 68,
   "id": "566380a9-abc1-42f6-a692-7be399c73176",
   "metadata": {},
   "outputs": [],
   "source": [
    "specific_mappings = {\n",
    "    'COVID-19': 'BIOLOGICAL',\n",
    "    'Coastal Storm': 'COASTAL STORM',  \n",
    "    'Tropical Storm': 'COASTAL STORM',  \n",
    "    'Dam/Levee Break': 'FLOOD',\n",
    "    'TORNADOES': 'TORNADO'}"
   ]
  },
  {
   "cell_type": "code",
   "execution_count": 69,
   "id": "a003c809-4b08-4e70-9771-d1416b16c787",
   "metadata": {},
   "outputs": [],
   "source": [
    "def extract_disaster_types(declaration_title):\n",
    "    found_types = re.findall(disaster_types_pattern, declaration_title, re.IGNORECASE)    \n",
    "    for term, dtype in specific_mappings.items():\n",
    "        if term.lower() in declaration_title.lower():\n",
    "            found_types.append(dtype)  \n",
    "    found_types = ['Storm' if dtype in ['Coastal Storm', 'Tropical Storm'] else\n",
    "                   'Flood' if dtype == 'Dam/Levee Break' else dtype for dtype in found_types]  \n",
    "    return list(set(found_types))"
   ]
  },
  {
   "cell_type": "code",
   "execution_count": 70,
   "id": "437470aa-7b30-450e-ac17-b1f51443236e",
   "metadata": {},
   "outputs": [],
   "source": [
    "disaster_fema['extractedDisasterTypes'] = disaster_fema['declarationTitle'].apply(extract_disaster_types)"
   ]
  },
  {
   "cell_type": "code",
   "execution_count": 71,
   "id": "7efc66c1-2d4d-41a4-ab70-f4c72ace68ea",
   "metadata": {},
   "outputs": [],
   "source": [
    "disaster_fema_exploded = disaster_fema.explode('extractedDisasterTypes')"
   ]
  },
  {
   "cell_type": "code",
   "execution_count": 72,
   "id": "86778a4e-2f56-4c7c-a766-ec61a8d44c9f",
   "metadata": {},
   "outputs": [],
   "source": [
    "disaster_fema_exploded.rename(columns={'extractedDisasterTypes': 'incidentType2'}, inplace=True)"
   ]
  },
  {
   "cell_type": "code",
   "execution_count": 73,
   "id": "ffae6334-9a0a-4fd3-9dfc-3e2bc777f0ba",
   "metadata": {},
   "outputs": [],
   "source": [
    "disaster_fema_filtered = disaster_fema_exploded.dropna(subset=['incidentType2'])"
   ]
  },
  {
   "cell_type": "code",
   "execution_count": 74,
   "id": "ff7385ef-bb34-469b-860e-996cff7393c3",
   "metadata": {},
   "outputs": [],
   "source": [
    "disaster_fema_filtered = disaster_fema_filtered.reset_index(drop=True)"
   ]
  },
  {
   "cell_type": "code",
   "execution_count": 161,
   "id": "829f4e25-db50-457c-9009-55fa3f4e39ea",
   "metadata": {},
   "outputs": [
    {
     "data": {
      "text/html": [
       "<div>\n",
       "<style scoped>\n",
       "    .dataframe tbody tr th:only-of-type {\n",
       "        vertical-align: middle;\n",
       "    }\n",
       "\n",
       "    .dataframe tbody tr th {\n",
       "        vertical-align: top;\n",
       "    }\n",
       "\n",
       "    .dataframe thead th {\n",
       "        text-align: right;\n",
       "    }\n",
       "</style>\n",
       "<table border=\"1\" class=\"dataframe\">\n",
       "  <thead>\n",
       "    <tr style=\"text-align: right;\">\n",
       "      <th></th>\n",
       "      <th>disasterNumber</th>\n",
       "      <th>state</th>\n",
       "      <th>declarationType</th>\n",
       "      <th>declarationDate</th>\n",
       "      <th>fyDeclared</th>\n",
       "      <th>incidentType</th>\n",
       "      <th>declarationTitle</th>\n",
       "      <th>incidentBeginDate</th>\n",
       "      <th>incidentEndDate</th>\n",
       "      <th>fipsStateCode</th>\n",
       "      <th>State</th>\n",
       "      <th>incidentType2</th>\n",
       "    </tr>\n",
       "  </thead>\n",
       "  <tbody>\n",
       "    <tr>\n",
       "      <th>0</th>\n",
       "      <td>2289</td>\n",
       "      <td>TX</td>\n",
       "      <td>FM</td>\n",
       "      <td>2000-01-03</td>\n",
       "      <td>2000</td>\n",
       "      <td>Fire</td>\n",
       "      <td>SADDLEBACK FIRE</td>\n",
       "      <td>2000-01-03</td>\n",
       "      <td>2000-01-03</td>\n",
       "      <td>48</td>\n",
       "      <td>Texas</td>\n",
       "      <td>FIRE</td>\n",
       "    </tr>\n",
       "    <tr>\n",
       "      <th>1</th>\n",
       "      <td>2290</td>\n",
       "      <td>TX</td>\n",
       "      <td>FM</td>\n",
       "      <td>2000-01-04</td>\n",
       "      <td>2000</td>\n",
       "      <td>Fire</td>\n",
       "      <td>PURGATORY FIRE</td>\n",
       "      <td>2000-01-04</td>\n",
       "      <td>2000-01-04</td>\n",
       "      <td>48</td>\n",
       "      <td>Texas</td>\n",
       "      <td>FIRE</td>\n",
       "    </tr>\n",
       "    <tr>\n",
       "      <th>2</th>\n",
       "      <td>2291</td>\n",
       "      <td>TX</td>\n",
       "      <td>FM</td>\n",
       "      <td>2000-01-05</td>\n",
       "      <td>2000</td>\n",
       "      <td>Fire</td>\n",
       "      <td>BOB'S TRAIL FIRE</td>\n",
       "      <td>2000-01-05</td>\n",
       "      <td>2000-01-05</td>\n",
       "      <td>48</td>\n",
       "      <td>Texas</td>\n",
       "      <td>FIRE</td>\n",
       "    </tr>\n",
       "    <tr>\n",
       "      <th>3</th>\n",
       "      <td>1310</td>\n",
       "      <td>KY</td>\n",
       "      <td>DR</td>\n",
       "      <td>2000-01-10</td>\n",
       "      <td>2000</td>\n",
       "      <td>Tornado</td>\n",
       "      <td>TORNADOES, SEVERE STORMS, TORRENTIAL RAINS, AN...</td>\n",
       "      <td>2000-01-03</td>\n",
       "      <td>2000-01-04</td>\n",
       "      <td>21</td>\n",
       "      <td>Kentucky</td>\n",
       "      <td>TORNADO</td>\n",
       "    </tr>\n",
       "    <tr>\n",
       "      <th>4</th>\n",
       "      <td>1310</td>\n",
       "      <td>KY</td>\n",
       "      <td>DR</td>\n",
       "      <td>2000-01-10</td>\n",
       "      <td>2000</td>\n",
       "      <td>Tornado</td>\n",
       "      <td>TORNADOES, SEVERE STORMS, TORRENTIAL RAINS, AN...</td>\n",
       "      <td>2000-01-03</td>\n",
       "      <td>2000-01-04</td>\n",
       "      <td>21</td>\n",
       "      <td>Kentucky</td>\n",
       "      <td>SEVERE STORM</td>\n",
       "    </tr>\n",
       "    <tr>\n",
       "      <th>...</th>\n",
       "      <td>...</td>\n",
       "      <td>...</td>\n",
       "      <td>...</td>\n",
       "      <td>...</td>\n",
       "      <td>...</td>\n",
       "      <td>...</td>\n",
       "      <td>...</td>\n",
       "      <td>...</td>\n",
       "      <td>...</td>\n",
       "      <td>...</td>\n",
       "      <td>...</td>\n",
       "      <td>...</td>\n",
       "    </tr>\n",
       "    <tr>\n",
       "      <th>4371</th>\n",
       "      <td>5525</td>\n",
       "      <td>CO</td>\n",
       "      <td>FM</td>\n",
       "      <td>2024-07-31</td>\n",
       "      <td>2024</td>\n",
       "      <td>Fire</td>\n",
       "      <td>STONE MOUNTAIN FIRE</td>\n",
       "      <td>2024-07-30</td>\n",
       "      <td>NaT</td>\n",
       "      <td>8</td>\n",
       "      <td>Colorado</td>\n",
       "      <td>FIRE</td>\n",
       "    </tr>\n",
       "    <tr>\n",
       "      <th>4372</th>\n",
       "      <td>5524</td>\n",
       "      <td>CO</td>\n",
       "      <td>FM</td>\n",
       "      <td>2024-07-31</td>\n",
       "      <td>2024</td>\n",
       "      <td>Fire</td>\n",
       "      <td>ALEXANDER MOUNTAIN FIRE</td>\n",
       "      <td>2024-07-29</td>\n",
       "      <td>NaT</td>\n",
       "      <td>8</td>\n",
       "      <td>Colorado</td>\n",
       "      <td>FIRE</td>\n",
       "    </tr>\n",
       "    <tr>\n",
       "      <th>4373</th>\n",
       "      <td>5526</td>\n",
       "      <td>CO</td>\n",
       "      <td>FM</td>\n",
       "      <td>2024-08-01</td>\n",
       "      <td>2024</td>\n",
       "      <td>Fire</td>\n",
       "      <td>QUARRY FIRE</td>\n",
       "      <td>2024-07-30</td>\n",
       "      <td>NaT</td>\n",
       "      <td>8</td>\n",
       "      <td>Colorado</td>\n",
       "      <td>FIRE</td>\n",
       "    </tr>\n",
       "    <tr>\n",
       "      <th>4374</th>\n",
       "      <td>3605</td>\n",
       "      <td>FL</td>\n",
       "      <td>EM</td>\n",
       "      <td>2024-08-03</td>\n",
       "      <td>2024</td>\n",
       "      <td>Tropical Storm</td>\n",
       "      <td>TROPICAL STORM DEBBY</td>\n",
       "      <td>2024-08-01</td>\n",
       "      <td>NaT</td>\n",
       "      <td>12</td>\n",
       "      <td>Florida</td>\n",
       "      <td>TROPICAL STORM</td>\n",
       "    </tr>\n",
       "    <tr>\n",
       "      <th>4375</th>\n",
       "      <td>3605</td>\n",
       "      <td>FL</td>\n",
       "      <td>EM</td>\n",
       "      <td>2024-08-03</td>\n",
       "      <td>2024</td>\n",
       "      <td>Tropical Storm</td>\n",
       "      <td>TROPICAL STORM DEBBY</td>\n",
       "      <td>2024-08-01</td>\n",
       "      <td>NaT</td>\n",
       "      <td>12</td>\n",
       "      <td>Florida</td>\n",
       "      <td>COASTAL STORM</td>\n",
       "    </tr>\n",
       "  </tbody>\n",
       "</table>\n",
       "<p>4376 rows × 12 columns</p>\n",
       "</div>"
      ],
      "text/plain": [
       "      disasterNumber state declarationType declarationDate  fyDeclared  \\\n",
       "0               2289    TX              FM      2000-01-03        2000   \n",
       "1               2290    TX              FM      2000-01-04        2000   \n",
       "2               2291    TX              FM      2000-01-05        2000   \n",
       "3               1310    KY              DR      2000-01-10        2000   \n",
       "4               1310    KY              DR      2000-01-10        2000   \n",
       "...              ...   ...             ...             ...         ...   \n",
       "4371            5525    CO              FM      2024-07-31        2024   \n",
       "4372            5524    CO              FM      2024-07-31        2024   \n",
       "4373            5526    CO              FM      2024-08-01        2024   \n",
       "4374            3605    FL              EM      2024-08-03        2024   \n",
       "4375            3605    FL              EM      2024-08-03        2024   \n",
       "\n",
       "        incidentType                                   declarationTitle  \\\n",
       "0               Fire                                    SADDLEBACK FIRE   \n",
       "1               Fire                                     PURGATORY FIRE   \n",
       "2               Fire                                   BOB'S TRAIL FIRE   \n",
       "3            Tornado  TORNADOES, SEVERE STORMS, TORRENTIAL RAINS, AN...   \n",
       "4            Tornado  TORNADOES, SEVERE STORMS, TORRENTIAL RAINS, AN...   \n",
       "...              ...                                                ...   \n",
       "4371            Fire                                STONE MOUNTAIN FIRE   \n",
       "4372            Fire                            ALEXANDER MOUNTAIN FIRE   \n",
       "4373            Fire                                        QUARRY FIRE   \n",
       "4374  Tropical Storm                               TROPICAL STORM DEBBY   \n",
       "4375  Tropical Storm                               TROPICAL STORM DEBBY   \n",
       "\n",
       "     incidentBeginDate incidentEndDate  fipsStateCode     State  \\\n",
       "0           2000-01-03      2000-01-03             48     Texas   \n",
       "1           2000-01-04      2000-01-04             48     Texas   \n",
       "2           2000-01-05      2000-01-05             48     Texas   \n",
       "3           2000-01-03      2000-01-04             21  Kentucky   \n",
       "4           2000-01-03      2000-01-04             21  Kentucky   \n",
       "...                ...             ...            ...       ...   \n",
       "4371        2024-07-30             NaT              8  Colorado   \n",
       "4372        2024-07-29             NaT              8  Colorado   \n",
       "4373        2024-07-30             NaT              8  Colorado   \n",
       "4374        2024-08-01             NaT             12   Florida   \n",
       "4375        2024-08-01             NaT             12   Florida   \n",
       "\n",
       "       incidentType2  \n",
       "0               FIRE  \n",
       "1               FIRE  \n",
       "2               FIRE  \n",
       "3            TORNADO  \n",
       "4       SEVERE STORM  \n",
       "...              ...  \n",
       "4371            FIRE  \n",
       "4372            FIRE  \n",
       "4373            FIRE  \n",
       "4374  TROPICAL STORM  \n",
       "4375   COASTAL STORM  \n",
       "\n",
       "[4376 rows x 12 columns]"
      ]
     },
     "execution_count": 161,
     "metadata": {},
     "output_type": "execute_result"
    }
   ],
   "source": [
    "disaster_fema_filtered"
   ]
  },
  {
   "cell_type": "code",
   "execution_count": 163,
   "id": "87ff01b2-0fd2-4f25-b456-1d45e07f8ca0",
   "metadata": {},
   "outputs": [
    {
     "data": {
      "text/plain": [
       "State\n",
       "California        334\n",
       "Oklahoma          238\n",
       "Texas             231\n",
       "Washington        170\n",
       "Florida           133\n",
       "Oregon            119\n",
       "Kentucky          114\n",
       "Tennessee         111\n",
       "Kansas            109\n",
       "New Mexico        108\n",
       "Mississippi       107\n",
       "Missouri          102\n",
       "South Dakota      102\n",
       "Arizona            96\n",
       "Nebraska           96\n",
       "Alabama            92\n",
       "Arkansas           91\n",
       "New York           89\n",
       "Iowa               88\n",
       "West Virginia      87\n",
       "Louisiana          86\n",
       "Colorado           86\n",
       "Montana            83\n",
       "Nevada             81\n",
       "Vermont            71\n",
       "Minnesota          69\n",
       "Alaska             69\n",
       "New Hampshire      68\n",
       "Virginia           64\n",
       "Maine              62\n",
       "North Dakota       61\n",
       "Hawaii             60\n",
       "Georgia            59\n",
       "North Carolina     54\n",
       "Massachusetts      51\n",
       "New Jersey         50\n",
       "Ohio               49\n",
       "Illinois           49\n",
       "Indiana            49\n",
       "Wisconsin          48\n",
       "Utah               48\n",
       "Pennsylvania       45\n",
       "Idaho              42\n",
       "South Carolina     38\n",
       "Wyoming            36\n",
       "Connecticut        34\n",
       "Maryland           31\n",
       "Rhode Island       30\n",
       "Michigan           29\n",
       "Delaware           22\n",
       "Name: count, dtype: int64"
      ]
     },
     "execution_count": 163,
     "metadata": {},
     "output_type": "execute_result"
    }
   ],
   "source": [
    "disaster_fema_filtered['State'].value_counts()"
   ]
  },
  {
   "cell_type": "code",
   "execution_count": 77,
   "id": "7a4adb25-e35a-494d-86b7-7a79530a5393",
   "metadata": {},
   "outputs": [
    {
     "data": {
      "text/plain": [
       "incidentType2\n",
       "FIRE                 1291\n",
       "FLOOD                 874\n",
       "SEVERE STORM          829\n",
       "TORNADO               357\n",
       "WINTER STORM          276\n",
       "HURRICANE             262\n",
       "BIOLOGICAL            167\n",
       "TROPICAL STORM         94\n",
       "COASTAL STORM          94\n",
       "SNOWSTORM              73\n",
       "TYPHOON                24\n",
       "EARTHQUAKE             20\n",
       "SEVERE ICE STORM        6\n",
       "TSUNAMI                 4\n",
       "VOLCANIC ERUPTION       2\n",
       "FREEZING                1\n",
       "DROUGHT                 1\n",
       "CHEMICAL                1\n",
       "Name: count, dtype: int64"
      ]
     },
     "execution_count": 77,
     "metadata": {},
     "output_type": "execute_result"
    }
   ],
   "source": [
    "disaster_fema_exploded['incidentType2'].value_counts()"
   ]
  },
  {
   "cell_type": "code",
   "execution_count": 78,
   "id": "4f273e77-2d55-425f-96b7-5c1bcbd319f7",
   "metadata": {},
   "outputs": [],
   "source": [
    "disaster_fema_exploded.to_csv('updated_disaster_fema.csv', index=False)"
   ]
  },
  {
   "cell_type": "code",
   "execution_count": 79,
   "id": "d3ba264b-8b51-4ba1-ab93-0f684befee67",
   "metadata": {},
   "outputs": [],
   "source": [
    "disaster_updated = disaster_fema_exploded"
   ]
  },
  {
   "cell_type": "markdown",
   "id": "3c7b485e-0454-4a0c-a836-6bb5eeca1d35",
   "metadata": {},
   "source": [
    "--Fire                 1298\n",
    "--Severe Storm          844\n",
    "--Hurricane             307\n",
    "--Flood                 235\n",
    "Biological            167\n",
    "--Snowstorm              97\n",
    "--Severe Ice Storm       62\n",
    "--Tornado                40\n",
    "--Typhoon                24\n",
    "--Earthquake             19\n",
    "Coastal Storm          19\n",
    "Winter Storm           13\n",
    "Mud/Landslide          10\n",
    "--Tropical Storm         10\n",
    "Dam/Levee Break         4\n",
    "--Freezing                4\n",
    "--Tsunami                 3\n",
    "--Volcanic Eruption       2\n",
    "--Chemical                1\n",
    "Toxic Substances        1\n",
    "--Drought                 1"
   ]
  },
  {
   "cell_type": "code",
   "execution_count": null,
   "id": "fbdff079-f596-48d7-9ab9-b2fdf70114a3",
   "metadata": {},
   "outputs": [],
   "source": []
  }
 ],
 "metadata": {
  "kernelspec": {
   "display_name": "Python 3 (ipykernel)",
   "language": "python",
   "name": "python3"
  },
  "language_info": {
   "codemirror_mode": {
    "name": "ipython",
    "version": 3
   },
   "file_extension": ".py",
   "mimetype": "text/x-python",
   "name": "python",
   "nbconvert_exporter": "python",
   "pygments_lexer": "ipython3",
   "version": "3.11.7"
  }
 },
 "nbformat": 4,
 "nbformat_minor": 5
}
